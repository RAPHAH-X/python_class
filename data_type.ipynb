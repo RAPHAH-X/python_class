{
 "cells": [
  {
   "cell_type": "code",
   "execution_count": null,
   "metadata": {},
   "outputs": [],
   "source": [
    "python_class = \"AWS\"\n",
    "FIRSTNAME = \"Raphah\" \n",
    "LASTNAME = \"Osasere\"\n",
    "\\\n",
    "The_third_prime_number = 5\n",
    "Todays_date = \"26th september\" "
   ]
  },
  {
   "cell_type": "code",
   "execution_count": null,
   "metadata": {},
   "outputs": [
    {
     "name": "stdout",
     "output_type": "stream",
     "text": [
      "<class 'str'>\n",
      "<class 'str'>\n",
      "<class 'str'>\n",
      "<class 'int'>\n",
      "<class 'str'>\n"
     ]
    }
   ],
   "source": [
    "print(type(python_class))\n",
    "print(type(FIRSTNAME))\n",
    "print(type(LASTNAME))\n",
    "print(type(The_third_prime_number))\n",
    "print(type(Todays_date))\n"
   ]
  },
  {
   "cell_type": "code",
   "execution_count": null,
   "metadata": {},
   "outputs": [],
   "source": [
    "weight = 45\n",
    "#length = 290578\n",
    "height = 1.02\n",
    "integrity = True\n",
    "place = \" my dog is in bed\"\n",
    "age = \"45\""
   ]
  },
  {
   "cell_type": "code",
   "execution_count": null,
   "metadata": {},
   "outputs": [
    {
     "name": "stdout",
     "output_type": "stream",
     "text": [
      "<class 'int'>\n",
      "<class 'float'>\n",
      "<class 'bool'>\n",
      "<class 'str'>\n",
      "<class 'str'>\n"
     ]
    }
   ],
   "source": [
    "print(type(weight))\n",
    "#print(type(length))\n",
    "print(type(height))\n",
    "print(type(integrity))\n",
    "print(type(place))\n",
    "print(type(age))"
   ]
  },
  {
   "cell_type": "code",
   "execution_count": null,
   "metadata": {},
   "outputs": [
    {
     "data": {
      "text/plain": [
       "2"
      ]
     },
     "execution_count": 17,
     "metadata": {},
     "output_type": "execute_result"
    }
   ],
   "source": [
    "int (2.5)"
   ]
  },
  {
   "cell_type": "code",
   "execution_count": null,
   "metadata": {},
   "outputs": [
    {
     "data": {
      "text/plain": [
       "'M'"
      ]
     },
     "execution_count": 18,
     "metadata": {},
     "output_type": "execute_result"
    }
   ],
   "source": [
    "chr (77)"
   ]
  },
  {
   "cell_type": "code",
   "execution_count": null,
   "metadata": {},
   "outputs": [
    {
     "data": {
      "text/plain": [
       "'a'"
      ]
     },
     "execution_count": 19,
     "metadata": {},
     "output_type": "execute_result"
    }
   ],
   "source": [
    "chr (97)"
   ]
  },
  {
   "cell_type": "code",
   "execution_count": null,
   "metadata": {},
   "outputs": [
    {
     "ename": "SyntaxError",
     "evalue": "invalid syntax. Perhaps you forgot a comma? (2939983851.py, line 1)",
     "output_type": "error",
     "traceback": [
      "\u001b[1;36m  Cell \u001b[1;32mIn[20], line 1\u001b[1;36m\u001b[0m\n\u001b[1;33m    chr (77 87)\u001b[0m\n\u001b[1;37m         ^\u001b[0m\n\u001b[1;31mSyntaxError\u001b[0m\u001b[1;31m:\u001b[0m invalid syntax. Perhaps you forgot a comma?\n"
     ]
    }
   ],
   "source": [
    "chr (77 87)"
   ]
  },
  {
   "cell_type": "code",
   "execution_count": null,
   "metadata": {},
   "outputs": [],
   "source": [
    "a=2"
   ]
  },
  {
   "cell_type": "code",
   "execution_count": null,
   "metadata": {},
   "outputs": [
    {
     "name": "stdout",
     "output_type": "stream",
     "text": [
      "<class 'int'>\n"
     ]
    }
   ],
   "source": [
    "print(type(a))"
   ]
  },
  {
   "cell_type": "code",
   "execution_count": null,
   "metadata": {},
   "outputs": [],
   "source": [
    "a=2.5\n"
   ]
  },
  {
   "cell_type": "code",
   "execution_count": null,
   "metadata": {},
   "outputs": [
    {
     "name": "stdout",
     "output_type": "stream",
     "text": [
      "<class 'float'>\n"
     ]
    }
   ],
   "source": [
    "print(type(a))\n"
   ]
  },
  {
   "cell_type": "code",
   "execution_count": null,
   "metadata": {},
   "outputs": [],
   "source": [
    "a= \"2.5\""
   ]
  },
  {
   "cell_type": "code",
   "execution_count": null,
   "metadata": {},
   "outputs": [
    {
     "name": "stdout",
     "output_type": "stream",
     "text": [
      "<class 'float'>\n"
     ]
    }
   ],
   "source": [
    "print(type(a))"
   ]
  },
  {
   "cell_type": "code",
   "execution_count": null,
   "metadata": {},
   "outputs": [],
   "source": [
    "a=10"
   ]
  },
  {
   "cell_type": "code",
   "execution_count": null,
   "metadata": {},
   "outputs": [
    {
     "name": "stdout",
     "output_type": "stream",
     "text": [
      "<class 'int'>\n"
     ]
    }
   ],
   "source": [
    "print(type(a))"
   ]
  },
  {
   "cell_type": "code",
   "execution_count": null,
   "metadata": {},
   "outputs": [
    {
     "name": "stdout",
     "output_type": "stream",
     "text": [
      "<class 'str'>\n"
     ]
    }
   ],
   "source": [
    "print(type(a))"
   ]
  },
  {
   "cell_type": "code",
   "execution_count": null,
   "metadata": {},
   "outputs": [],
   "source": [
    "#covertion of float to intiger\n",
    "num1 = 10\n",
    "num2 =20\n",
    "num3 = num1 + num2"
   ]
  },
  {
   "cell_type": "code",
   "execution_count": null,
   "metadata": {},
   "outputs": [
    {
     "name": "stdout",
     "output_type": "stream",
     "text": [
      "your answer is  30.0\n"
     ]
    }
   ],
   "source": [
    "print(\"your answer is \" , float(num3))"
   ]
  },
  {
   "cell_type": "code",
   "execution_count": null,
   "metadata": {},
   "outputs": [
    {
     "data": {
      "text/plain": [
       "int"
      ]
     },
     "execution_count": 39,
     "metadata": {},
     "output_type": "execute_result"
    }
   ],
   "source": [
    "type (num3)"
   ]
  },
  {
   "cell_type": "code",
   "execution_count": null,
   "metadata": {},
   "outputs": [],
   "source": [
    "num3 = float (num3)"
   ]
  },
  {
   "cell_type": "code",
   "execution_count": null,
   "metadata": {},
   "outputs": [
    {
     "data": {
      "text/plain": [
       "float"
      ]
     },
     "execution_count": 42,
     "metadata": {},
     "output_type": "execute_result"
    }
   ],
   "source": [
    "type (num3)"
   ]
  },
  {
   "cell_type": "code",
   "execution_count": null,
   "metadata": {},
   "outputs": [],
   "source": [
    "#covertion of float to intiger\n",
    "num1 = 10\n",
    "num2 =20\n",
    "num3 = num1 + num2"
   ]
  },
  {
   "cell_type": "code",
   "execution_count": null,
   "metadata": {},
   "outputs": [
    {
     "data": {
      "text/plain": [
       "10"
      ]
     },
     "execution_count": 53,
     "metadata": {},
     "output_type": "execute_result"
    }
   ],
   "source": [
    "#ATTRIBUTE OF A PERSON\n",
    "num1"
   ]
  },
  {
   "cell_type": "code",
   "execution_count": null,
   "metadata": {},
   "outputs": [
    {
     "name": "stdout",
     "output_type": "stream",
     "text": [
      "[6, 7, 8, 9, 10, 10]\n"
     ]
    }
   ],
   "source": [
    "mytup= [1,2,3,4,4,4,5]\n",
    "var2 = [6,7,8,6,6,7,9,10,10]\n",
    "tuple(var2)\n",
    "print(var2)\n"
   ]
  },
  {
   "cell_type": "code",
   "execution_count": null,
   "metadata": {},
   "outputs": [
    {
     "data": {
      "text/plain": [
       "5"
      ]
     },
     "execution_count": 67,
     "metadata": {},
     "output_type": "execute_result"
    }
   ],
   "source": [
    "Var1[4]"
   ]
  },
  {
   "cell_type": "code",
   "execution_count": null,
   "metadata": {},
   "outputs": [
    {
     "ename": "SyntaxError",
     "evalue": "unterminated string literal (detected at line 6) (2879995655.py, line 6)",
     "output_type": "error",
     "traceback": [
      "\u001b[1;36m  Cell \u001b[1;32mIn[1], line 6\u001b[1;36m\u001b[0m\n\u001b[1;33m    \"\"\"\"\u001b[0m\n\u001b[1;37m       ^\u001b[0m\n\u001b[1;31mSyntaxError\u001b[0m\u001b[1;31m:\u001b[0m unterminated string literal (detected at line 6)\n"
     ]
    }
   ],
   "source": []
  },
  {
   "cell_type": "code",
   "execution_count": null,
   "metadata": {},
   "outputs": [
    {
     "data": {
      "text/plain": [
       "[1, 2, 3, 6, 4, 5]"
      ]
     },
     "execution_count": 24,
     "metadata": {},
     "output_type": "execute_result"
    }
   ],
   "source": [
    "vim = [1,2,3,4,5]\n",
    "vim.insert(3,6)\n",
    "vim\n"
   ]
  },
  {
   "cell_type": "code",
   "execution_count": null,
   "metadata": {},
   "outputs": [],
   "source": [
    "bag = ['spoon','weeed','mirror']\n",
    "bag.append(\"diaper\")"
   ]
  },
  {
   "cell_type": "code",
   "execution_count": null,
   "metadata": {},
   "outputs": [
    {
     "data": {
      "text/plain": [
       "['spoon', 'weeed', 'mirror', 'diaper']"
      ]
     },
     "execution_count": 27,
     "metadata": {},
     "output_type": "execute_result"
    }
   ],
   "source": [
    "bag"
   ]
  },
  {
   "cell_type": "code",
   "execution_count": null,
   "metadata": {},
   "outputs": [],
   "source": [
    "ebag = bag.copy()"
   ]
  },
  {
   "cell_type": "code",
   "execution_count": null,
   "metadata": {},
   "outputs": [
    {
     "data": {
      "text/plain": [
       "True"
      ]
     },
     "execution_count": 33,
     "metadata": {},
     "output_type": "execute_result"
    }
   ],
   "source": [
    "ebag == bag"
   ]
  },
  {
   "cell_type": "code",
   "execution_count": null,
   "metadata": {},
   "outputs": [
    {
     "data": {
      "text/plain": [
       "1"
      ]
     },
     "execution_count": 57,
     "metadata": {},
     "output_type": "execute_result"
    }
   ],
   "source": [
    "ebag.count(\"spoon\")"
   ]
  },
  {
   "cell_type": "code",
   "execution_count": null,
   "metadata": {},
   "outputs": [],
   "source": [
    "ebag.insert(4,\"wig\")"
   ]
  },
  {
   "cell_type": "code",
   "execution_count": null,
   "metadata": {},
   "outputs": [],
   "source": [
    "ebag.clear()"
   ]
  },
  {
   "cell_type": "code",
   "execution_count": null,
   "metadata": {},
   "outputs": [
    {
     "data": {
      "text/plain": [
       "['spoon', 'weeed', 'mirror', 'diaper']"
      ]
     },
     "execution_count": 64,
     "metadata": {},
     "output_type": "execute_result"
    }
   ],
   "source": [
    "ebag"
   ]
  },
  {
   "cell_type": "code",
   "execution_count": null,
   "metadata": {},
   "outputs": [],
   "source": [
    "ebag.insert(4,'wig')\n",
    "ebag.insert(0,'wig')\n",
    "ebag.insert(3,'wig')"
   ]
  },
  {
   "cell_type": "code",
   "execution_count": null,
   "metadata": {},
   "outputs": [
    {
     "data": {
      "text/plain": [
       "['wig', 'spoon', 'weeed', 'wig', 'mirror', 'diaper', 'wig']"
      ]
     },
     "execution_count": 66,
     "metadata": {},
     "output_type": "execute_result"
    }
   ],
   "source": [
    "ebag"
   ]
  },
  {
   "cell_type": "code",
   "execution_count": null,
   "metadata": {},
   "outputs": [
    {
     "data": {
      "text/plain": [
       "'etiosa'"
      ]
     },
     "execution_count": 68,
     "metadata": {},
     "output_type": "execute_result"
    }
   ],
   "source": [
    "name = \"etiosa\"\n",
    "def change_name(name):\n",
    "    print(name)\n",
    "    change_name('osas')\n",
    "name"
   ]
  },
  {
   "cell_type": "code",
   "execution_count": null,
   "metadata": {},
   "outputs": [
    {
     "name": "stdout",
     "output_type": "stream",
     "text": [
      "10\n",
      "20\n",
      "30\n",
      "40\n",
      "50\n",
      "60\n",
      "70\n",
      "80\n",
      "90\n"
     ]
    }
   ],
   "source": [
    "for number in range(10,100,10):\n",
    "    print(number)"
   ]
  },
  {
   "cell_type": "code",
   "execution_count": null,
   "metadata": {},
   "outputs": [],
   "source": [
    "# 40 to 50 = D\n",
    "# 51 to 60 = C\n",
    "# 61 to 75 = B\n",
    "# 76 to 100 = A\n"
   ]
  },
  {
   "cell_type": "code",
   "execution_count": null,
   "metadata": {},
   "outputs": [
    {
     "name": "stdout",
     "output_type": "stream",
     "text": [
      "60\n"
     ]
    }
   ],
   "source": [
    "score = int(input('Enter student score: '))\n",
    "print(score + 30)\n"
   ]
  },
  {
   "cell_type": "code",
   "execution_count": 20,
   "metadata": {},
   "outputs": [
    {
     "name": "stdout",
     "output_type": "stream",
     "text": [
      "students grade is c\n"
     ]
    }
   ],
   "source": [
    "score = int(input('Enter student score: '))\n",
    "if score > 100:\n",
    "     print(\"students score can not be greater than 100\")\n",
    "else:\n",
    "    if score >= 40 and score <=50:\n",
    "        print('students grade is D')\n",
    "    elif score >= 50 and score  <= 60:\n",
    "        print('students grade is c' )\n",
    "    elif score >=70 and score <= 80:\n",
    "        print('students grade is B')\n",
    "    elif score >= 76 and score <= 100:\n",
    "       print('students grade is A' )\n",
    "    else:\n",
    "        print(\"failed!\")"
   ]
  },
  {
   "cell_type": "code",
   "execution_count": 25,
   "metadata": {},
   "outputs": [
    {
     "name": "stdout",
     "output_type": "stream",
     "text": [
      "students grade is c\n"
     ]
    }
   ],
   "source": [
    "score = int(input('Enter student score: '))\n",
    "if score > 100:\n",
    "     print(\"students score can not be greater than 100\")\n",
    "else:\n",
    "    if score in range(40,50):\n",
    "        print('students grade is D')\n",
    "    elif score in range(51,60):\n",
    "        print('students grade is c' )\n",
    "    elif score in range(61,70):\n",
    "        print('students grade is B')\n",
    "    elif score in range(81,100):\n",
    "       print('students grade is A' )\n",
    "    else:\n",
    "        print(\"failed!\")"
   ]
  },
  {
   "cell_type": "code",
   "execution_count": null,
   "metadata": {},
   "outputs": [],
   "source": [
    "def gradingSystem(score):\n",
    "    if score > 100:\n",
    "     print(\"students score can not be greater than 100\")\n",
    "    else:\n",
    "        if score in range(40,50):\n",
    "            print('students grade is D')\n",
    "        elif score in range(51,60):\n",
    "            print('students grade is c' )\n",
    "        elif score in range(61,70):\n",
    "            print('students grade is B')\n",
    "        elif score in range(81,100):\n",
    "            print('students grade is A' )\n",
    "        else:\n",
    "            print(\"failed!\")\n",
    "    "
   ]
  },
  {
   "cell_type": "code",
   "execution_count": null,
   "metadata": {},
   "outputs": [
    {
     "name": "stdout",
     "output_type": "stream",
     "text": [
      "students grade is c\n"
     ]
    }
   ],
   "source": [
    "score = int(input('Enter student score: '))\n",
    "gradingSystem(score)"
   ]
  },
  {
   "cell_type": "code",
   "execution_count": 26,
   "metadata": {},
   "outputs": [],
   "source": [
    "# calculating the area of a rectangle\n",
    "def calculating_area(length, breadth):\n",
    "    print(length * breadth)\n",
    "\n",
    "def get_rectangle_dimensions():\n",
    "    while True:\n",
    "        try:\n",
    "            length = float(input(\"Enter the length of the rectangle: \"))\n",
    "            breadth = float(input(\"Enter the breadth of the rectangle: \"))\n",
    "            return length, breadth\n",
    "        except ValueError:\n",
    "            print(\"Invalid input. Please enter a valid number for length and breadth.\")\n",
    "            \n"
   ]
  },
  {
   "cell_type": "code",
   "execution_count": 107,
   "metadata": {},
   "outputs": [
    {
     "name": "stdout",
     "output_type": "stream",
     "text": [
      "748.2\n"
     ]
    }
   ],
   "source": [
    "while True:\n",
    "        length, breadth = get_rectangle_dimensions()\n",
    "        \n",
    "        area = calculating_area(length, breadth)\n",
    "        break\n",
    "        \n",
    "        \n"
   ]
  },
  {
   "cell_type": "code",
   "execution_count": 30,
   "metadata": {},
   "outputs": [
    {
     "name": "stdout",
     "output_type": "stream",
     "text": [
      "['Watermelon', 'pineapple', 'kiwi', 'Mango', 'grapes']\n",
      "['Watermelon', 'pineapple', 'kiwi', 'Mango', 'grapes']\n",
      "['Watermelon', 'pineapple', 'kiwi', 'Mango', 'grapes']\n",
      "['Watermelon', 'pineapple', 'kiwi', 'Mango', 'grapes']\n",
      "['Watermelon', 'pineapple', 'kiwi', 'Mango', 'grapes']\n"
     ]
    }
   ],
   "source": [
    "five_fruits = ['grapes', 'Mango', 'kiwi','pineapple', 'Watermelon']\n",
    "five_fruits.reverse()\n",
    "for iteams in five_fruits:\n",
    "    print(five_fruits)"
   ]
  },
  {
   "cell_type": "code",
   "execution_count": 49,
   "metadata": {},
   "outputs": [
    {
     "name": "stdout",
     "output_type": "stream",
     "text": [
      "Degree in fahrenheit\n",
      "77.0\n"
     ]
    }
   ],
   "source": [
    "#  convert Celsius to Fahrenheit\n",
    "def celsius_to_fahrenheit(celsius):\n",
    "    fahrenheit = (celsius * 1.8) + 32\n",
    "    print(fahrenheit)\n",
    "\n",
    "# Get temperature in Celsius\n",
    "celsius = float(input(\"Enter temperature in degrees Celsius: \"))\n",
    "\n",
    "# Convert to Fahrenheit\n",
    "print( \"Degree in fahrenheit\")\n",
    "fahrenheit = celsius_to_fahrenheit(celsius)\n",
    "\n",
    "\n"
   ]
  },
  {
   "cell_type": "code",
   "execution_count": 51,
   "metadata": {},
   "outputs": [
    {
     "name": "stdout",
     "output_type": "stream",
     "text": [
      "110\n",
      "90\n"
     ]
    }
   ],
   "source": [
    "# create variables\n",
    "a = 90\n",
    "b = 110\n",
    "\n",
    "# Swap variable\n",
    "temp = a \n",
    "a = b     \n",
    "b = temp  \n",
    "\n",
    "# Now, 'a' and 'b' have swapped values\n",
    "print(a)\n",
    "print(b)\n"
   ]
  },
  {
   "cell_type": "code",
   "execution_count": null,
   "metadata": {},
   "outputs": [],
   "source": [
    "\n"
   ]
  },
  {
   "cell_type": "code",
   "execution_count": 105,
   "metadata": {},
   "outputs": [
    {
     "name": "stdout",
     "output_type": "stream",
     "text": [
      "Balance after 1 year/s: Naira1100.0\n"
     ]
    }
   ],
   "source": [
    "\n",
    "# compound interest calculator\n",
    "\n",
    "principle = 0\n",
    "rate = 0\n",
    "time = 0\n",
    "\n",
    "while True:\n",
    "    principle = float(input(\"Enter the principle amount: \"))\n",
    "    if principle < 0:\n",
    "        print(\"Principle can't be less than zero\")\n",
    "    else:\n",
    "        break\n",
    "\n",
    "while True:\n",
    "    rate = float(input(\"Enter the interest rate: \"))\n",
    "    if rate < 0:\n",
    "        print(\"Interest rate can't be less than zero\")\n",
    "    else:\n",
    "        break\n",
    "\n",
    "while True:\n",
    "    time = int(input(\"Enter the time in years: \"))\n",
    "    if time < 0:\n",
    "        print(\"Time can't be less than zero\")\n",
    "    else:\n",
    "        break\n",
    "\n",
    "total = principle * pow((1 + rate / 100), time)\n",
    "print(f\"Balance after {time} year/s: Naira{total:.1f}\")"
   ]
  },
  {
   "cell_type": "code",
   "execution_count": 85,
   "metadata": {},
   "outputs": [],
   "source": [
    "# Define the legal voting age in the country\n",
    "voting_age = 18\n",
    "\n",
    "# Get the age of the person from user input\n",
    "age = voting_age\n",
    "while True:\n",
    "   age = (input(\"Enter your age: \"))\n",
    "   if age > '18':\n",
    "       print(\" eligiable to vote\")\n",
    "else:\n",
    "    print(not eligible) \n",
    "    break\n",
    "    \n",
    "\n"
   ]
  },
  {
   "cell_type": "code",
   "execution_count": 108,
   "metadata": {},
   "outputs": [
    {
     "name": "stdout",
     "output_type": "stream",
     "text": [
      "you are eligiable to vote\n"
     ]
    }
   ],
   "source": [
    "# Define the legal voting age in the country\n",
    "voting_power = age\n",
    "\n",
    "# Get the age of the person from user input\n",
    "age = int(input(\"Enter your age: \"))\n",
    "if age < 18:\n",
    "   print(\" you not eligiable to vote\")\n",
    "else:\n",
    "    print(\"you are eligiable to vote\") \n"
   ]
  },
  {
   "cell_type": "code",
   "execution_count": null,
   "metadata": {},
   "outputs": [],
   "source": [
    "student_name = \"name\"\n",
    "student_email = \"Email\"\n",
    "student_phone =  \"number\"\n",
    "\n",
    "while True:\n",
    "    name = input(\"student name\")\n",
    "    print(name)\n",
    "    email =input(\"enter email address\")\n",
    "    print(email)\n",
    "    number = input(\"enter number\")\n",
    "    print(number)\n",
    "else:\n",
    "    brake "
   ]
  },
  {
   "cell_type": "code",
   "execution_count": null,
   "metadata": {},
   "outputs": [],
   "source": []
  }
 ],
 "metadata": {
  "kernelspec": {
   "display_name": "Python 3",
   "language": "python",
   "name": "python3"
  },
  "language_info": {
   "codemirror_mode": {
    "name": "ipython",
    "version": 3
   },
   "file_extension": ".py",
   "mimetype": "text/x-python",
   "name": "python",
   "nbconvert_exporter": "python",
   "pygments_lexer": "ipython3",
   "version": "3.11.5"
  },
  "orig_nbformat": 4
 },
 "nbformat": 4,
 "nbformat_minor": 2
}
